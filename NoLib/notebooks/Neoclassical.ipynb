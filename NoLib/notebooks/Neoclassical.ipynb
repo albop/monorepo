{
 "cells": [
  {
   "cell_type": "markdown",
   "metadata": {},
   "source": [
    "# Solving neoclassical model with time iteration"
   ]
  },
  {
   "cell_type": "code",
   "execution_count": 4,
   "metadata": {},
   "outputs": [],
   "source": [
    "using NoLib\n",
    "const NL = NoLib\n",
    "\n",
    "using StaticArrays\n",
    "using LabelledArrays\n",
    "using NoLib: SGrid, CGrid, PGrid, GArray\n",
    "import NoLib: transition, arbitrage\n",
    "import NoLib: ×\n"
   ]
  },
  {
   "cell_type": "markdown",
   "metadata": {},
   "source": [
    "## Define Model\n"
   ]
  },
  {
   "cell_type": "code",
   "execution_count": 17,
   "metadata": {},
   "outputs": [
    {
     "data": {
      "text/plain": [
       "(m = 1-element SLArray{Tuple{1}, Float64, 1, 1, (:z,)} with indices SOneTo(1):\n",
       " :z => 0.0, s = 1-element SLArray{Tuple{1}, Float64, 1, 1, (:k,)} with indices SOneTo(1):\n",
       " :k => 2.920822149964071, x = 1-element SLArray{Tuple{1}, Float64, 1, 1, (:i,)} with indices SOneTo(1):\n",
       " :i => 0.29208221499640713, p = (α = 0.3, β = 0.96, γ = 2.0, δ = 0.1), P = [0.9 0.1; 0.1 0.9], Q = [-0.1; 0.1;;], exo = SGrid{1}(SVector{1, Float64}[[-0.1], [0.1]]), endo = CGrid{1}(((0.1, 5.0, 100),)), grid = PGrid{SGrid{1}, CGrid{1}, 2}(SGrid{1}(SVector{1, Float64}[[-0.1], [0.1]]), CGrid{1}(((0.1, 5.0, 100),)), SVector{2, Float64}[[-0.1, 0.1], [0.1, 0.1], [-0.1, 0.1494949494949495], [0.1, 0.1494949494949495], [-0.1, 0.198989898989899], [0.1, 0.198989898989899], [-0.1, 0.24848484848484848], [0.1, 0.24848484848484848], [-0.1, 0.29797979797979796], [0.1, 0.29797979797979796]  …  [-0.1, 4.802020202020202], [0.1, 4.802020202020202], [-0.1, 4.851515151515152], [0.1, 4.851515151515152], [-0.1, 4.901010101010101], [0.1, 4.901010101010101], [-0.1, 4.9505050505050505], [0.1, 4.9505050505050505], [-0.1, 5.0], [0.1, 5.0]]))"
      ]
     },
     "metadata": {},
     "output_type": "display_data"
    }
   ],
   "source": [
    "\n",
    "\n",
    "model = let \n",
    "\n",
    "    α = 0.3\n",
    "    β = 0.96\n",
    "    γ = 2.0\n",
    "    δ = 0.1\n",
    "\n",
    "    k = ((1/β - (1-δ))/α)^(1/(α-1))\n",
    "    i = δ*k\n",
    "    z = 0.0\n",
    "\n",
    "    p = (;α, β, γ, δ)\n",
    "    \n",
    "    m = SLVector( (; z))\n",
    "    s = SLVector( (; k))\n",
    "    x = SLVector( (; i))\n",
    "\n",
    "    P = @SMatrix [0.9 0.1; 0.1 0.9]\n",
    "    # Q = @SMatrix [-0.05; 0.05]\n",
    "    Q = @SMatrix [-0.1; 0.1]\n",
    "\n",
    "    exo = SGrid( [Q[i,:] for i=1:size(Q,1)] )\n",
    "    endo = CGrid( ((0.1, 5.0, 100),) )\n",
    "    grid = exo × endo\n",
    "\n",
    "\n",
    "    (;m, s, x, p, P, Q, exo, endo, grid)\n",
    "\n",
    "end\n",
    "\n"
   ]
  },
  {
   "cell_type": "code",
   "execution_count": 20,
   "metadata": {},
   "outputs": [
    {
     "data": {
      "text/plain": [
       "arbitrage (generic function with 3 methods)"
      ]
     },
     "metadata": {},
     "output_type": "display_data"
    }
   ],
   "source": [
    "\n",
    "function transition(model::typeof(model), m::SLArray, s::SLArray, x::SLArray, M::SLArray, p)\n",
    "    K = s.k*(1-p.δ) + x.i\n",
    "    return SLVector( (;K) )\n",
    "end\n",
    "\n",
    "function arbitrage(model::typeof(model), m::SLArray, s::SLArray, x::SLArray, M::SLArray, S::SLArray, X::SLArray, p)\n",
    "    c = exp(m.z)*s.k^p.α - x.i\n",
    "    C = exp(M.z)*S.k^p.α - X.i\n",
    "    r = p.β*(C/c)^(-p.γ)*(1-p.δ + p.α*exp(M.z)*S.k^(p.α-1)) - 1\n",
    "    return SLVector( (;r) )\n",
    "end"
   ]
  },
  {
   "cell_type": "markdown",
   "metadata": {},
   "source": [
    "## Solving the model using NoLib\n"
   ]
  },
  {
   "cell_type": "code",
   "execution_count": 23,
   "metadata": {},
   "outputs": [],
   "source": [
    "import NoLib: version_check"
   ]
  },
  {
   "cell_type": "code",
   "execution_count": 27,
   "metadata": {},
   "outputs": [
    {
     "data": {
      "text/plain": [
       "version_check (generic function with 1 method)"
      ]
     },
     "metadata": {},
     "output_type": "display_data"
    }
   ],
   "source": [
    "version_check() = nothing"
   ]
  },
  {
   "cell_type": "code",
   "execution_count": 28,
   "metadata": {},
   "outputs": [
    {
     "data": {
      "text/plain": [
       "(solution = GArray{PGrid{SGrid{1}, CGrid{1}, 2}, SVector{1, Float64}}(PGrid{SGrid{1}, CGrid{1}, 2}(SGrid{1}(SVector{1, Float64}[[-0.1], [0.1]]), CGrid{1}(((0.1, 5.0, 100),)), SVector{2, Float64}[[-0.1, 0.1], [0.1, 0.1], [-0.1, 0.1494949494949495], [0.1, 0.1494949494949495], [-0.1, 0.198989898989899], [0.1, 0.198989898989899], [-0.1, 0.24848484848484848], [0.1, 0.24848484848484848], [-0.1, 0.29797979797979796], [0.1, 0.29797979797979796]  …  [-0.1, 4.802020202020202], [0.1, 4.802020202020202], [-0.1, 4.851515151515152], [0.1, 4.851515151515152], [-0.1, 4.901010101010101], [0.1, 4.901010101010101], [-0.1, 4.9505050505050505], [0.1, 4.9505050505050505], [-0.1, 5.0], [0.1, 5.0]]), SVector{1, Float64}[[0.12812953272828712], [0.1709032946089952], [0.14579047196986614], [0.19718192555538136], [0.1587214532520021], [0.2172689175084285], [0.1687796550157962], [0.23340991287897558], [0.17690048662574198], [0.2469653571249095]  …  [0.1664306101924036], [0.3899442485418199], [0.1652111557200157], [0.3896222004534979], [0.16398765893181438], [0.3892899836936149], [0.16276021229023505], [0.3889475698157757], [0.16152892686670933], [0.38859557999671923]]), message = \"Convergence\", n_iterations = 57)"
      ]
     },
     "metadata": {},
     "output_type": "display_data"
    }
   ],
   "source": [
    "res = NoLib.time_iteration(model;improve=false)\n"
   ]
  },
  {
   "cell_type": "code",
   "execution_count": 30,
   "metadata": {},
   "outputs": [
    {
     "data": {
      "text/plain": [
       "GArray{PGrid{SGrid{1}, CGrid{1}, 2}, SVector{1, Float64}}"
      ]
     },
     "metadata": {},
     "output_type": "display_data"
    }
   ],
   "source": [
    "typeof(res.solution)"
   ]
  },
  {
   "cell_type": "code",
   "execution_count": 32,
   "metadata": {},
   "outputs": [
    {
     "data": {
      "text/plain": [
       "\"Convergence\""
      ]
     },
     "metadata": {},
     "output_type": "display_data"
    }
   ],
   "source": [
    "res.message"
   ]
  },
  {
   "cell_type": "code",
   "execution_count": 31,
   "metadata": {},
   "outputs": [
    {
     "data": {
      "text/plain": [
       "57"
      ]
     },
     "metadata": {},
     "output_type": "display_data"
    }
   ],
   "source": [
    "res.n_iterations"
   ]
  },
  {
   "cell_type": "markdown",
   "metadata": {},
   "source": [
    "### Plot decision rule"
   ]
  },
  {
   "cell_type": "code",
   "execution_count": 33,
   "metadata": {},
   "outputs": [
    {
     "data": {
      "image/png": "[encoded data removed]",
      "image/svg+xml": "<?xml version=\"1.0\" encoding=\"utf-8\"?>\n<svg xmlns=\"http://www.w3.org/2000/svg\" xmlns:xlink=\"http://www.w3.org/1999/xlink\" width=\"600\" height=\"400\" viewBox=\"0 0 2400 1600\">\n<defs>\n  <clipPath id=\"clip380\">\n    <rect x=\"0\" y=\"0\" width=\"2400\" height=\"1600\"/>\n  </clipPath>\n</defs>\n<path clip-path=\"url(#clip380)\" d=\"\nM0 1600 L2400 1600 L2400 0 L0 0  Z\n  \" fill=\"#ffffff\" fill-rule=\"evenodd\" fill-opacity=\"1\"/>\n<defs>\n  <clipPath id=\"clip381\">\n    <rect x=\"480\" y=\"0\" width=\"1681\" height=\"1600\"/>\n  </clipPath>\n</defs>\n<path clip-path=\"url(#clip380)\" d=\"\nM186.274 1486.45 L2352.76 1486.45 L2352.76 47.2441 L186.274 47.2441  Z\n  \" fill=\"#ffffff\" fill-rule=\"evenodd\" fill-opacity=\"1\"/>\n<defs>\n  <clipPath id=\"clip382\">\n    <rect x=\"186\" y=\"47\" width=\"2167\" height=\"1440\"/>\n  </clipPath>\n</defs>\n<polyline clip-path=\"url(#clip382)\" style=\"stroke:#000000; stroke-linecap:butt; stroke-linejoin:round; stroke-width:2; stroke-opacity:0.1; fill:none\" points=\"\n  205.878,1486.45 205.878,47.2441 \n  \"/>\n<polyline clip-path=\"url(#clip382)\" style=\"stroke:#000000; stroke-linecap:butt; stroke-linejoin:round; stroke-width:2; stroke-opacity:0.1; fill:none\" points=\"\n  622.991,1486.45 622.991,47.2441 \n  \"/>\n<polyline clip-path=\"url(#clip382)\" style=\"stroke:#000000; stroke-linecap:butt; stroke-linejoin:round; stroke-width:2; stroke-opacity:0.1; fill:none\" points=\"\n  1040.1,1486.45 1040.1,47.2441 \n  \"/>\n<polyline clip-path=\"url(#clip382)\" style=\"stroke:#000000; stroke-linecap:butt; stroke-linejoin:round; stroke-width:2; stroke-opacity:0.1; fill:none\" points=\"\n  1457.22,1486.45 1457.22,47.2441 \n  \"/>\n<polyline clip-path=\"url(#clip382)\" style=\"stroke:#000000; stroke-linecap:butt; stroke-linejoin:round; stroke-width:2; stroke-opacity:0.1; fill:none\" points=\"\n  1874.33,1486.45 1874.33,47.2441 \n  \"/>\n<polyline clip-path=\"url(#clip382)\" style=\"stroke:#000000; stroke-linecap:butt; stroke-linejoin:round; stroke-width:2; stroke-opacity:0.1; fill:none\" points=\"\n  2291.44,1486.45 2291.44,47.2441 \n  \"/>\n<polyline clip-path=\"url(#clip380)\" style=\"stroke:#000000; stroke-linecap:butt; stroke-linejoin:round; stroke-width:4; stroke-opacity:1; fill:none\" points=\"\n  186.274,1486.45 2352.76,1486.45 \n  \"/>\n<polyline clip-path=\"url(#clip380)\" style=\"stroke:#000000; stroke-linecap:butt; stroke-linejoin:round; stroke-width:4; stroke-opacity:1; fill:none\" points=\"\n  205.878,1486.45 205.878,1467.55 \n  \"/>\n<polyline clip-path=\"url(#clip380)\" style=\"stroke:#000000; stroke-linecap:butt; stroke-linejoin:round; stroke-width:4; stroke-opacity:1; fill:none\" points=\"\n  622.991,1486.45 622.991,1467.55 \n  \"/>\n<polyline clip-path=\"url(#clip380)\" style=\"stroke:#000000; stroke-linecap:butt; stroke-linejoin:round; stroke-width:4; stroke-opacity:1; fill:none\" points=\"\n  1040.1,1486.45 1040.1,1467.55 \n  \"/>\n<polyline clip-path=\"url(#clip380)\" style=\"stroke:#000000; stroke-linecap:butt; stroke-linejoin:round; stroke-width:4; stroke-opacity:1; fill:none\" points=\"\n  1457.22,1486.45 1457.22,1467.55 \n  \"/>\n<polyline clip-path=\"url(#clip380)\" style=\"stroke:#000000; stroke-linecap:butt; stroke-linejoin:round; stroke-width:4; stroke-opacity:1; fill:none\" points=\"\n  1874.33,1486.45 1874.33,1467.55 \n  \"/>\n<polyline clip-path=\"url(#clip380)\" style=\"stroke:#000000; stroke-linecap:butt; stroke-linejoin:round; stroke-width:4; stroke-opacity:1; fill:none\" points=\"\n  2291.44,1486.45 2291.44,1467.55 \n  \"/>\n<path clip-path=\"url(#clip380)\" d=\"M205.878 1517.37 Q202.267 1517.37 200.438 1520.93 Q198.633 1524.47 198.633 1531.6 Q198.633 1538.71 200.438 1542.27 Q202.267 1545.82 205.878 1545.82 Q209.513 1545.82 211.318 1542.27 Q213.147 1538.71 213.147 1531.6 Q213.147 1524.47 211.318 1520.93 Q209.513 1517.37 205.878 1517.37 M205.878 1513.66 Q211.688 1513.66 214.744 1518.27 Q217.823 1522.85 217.823 1531.6 Q217.823 1540.33 214.744 1544.94 Q211.688 1549.52 205.878 1549.52 Q200.068 1549.52 196.989 1544.94 Q193.934 1540.33 193.934 1531.6 Q193.934 1522.85 196.989 1518.27 Q200.068 1513.66 205.878 1513.66 Z\" fill=\"#000000\" fill-rule=\"evenodd\" fill-opacity=\"1\" /><path clip-path=\"url(#clip380)\" d=\"M613.373 1544.91 L621.012 1544.91 L621.012 1518.55 L612.701 1520.21 L612.701 1515.95 L620.965 1514.29 L625.641 1514.29 L625.641 1544.91 L633.28 1544.91 L633.28 1548.85 L613.373 1548.85 L613.373 1544.91 Z\" fill=\"#000000\" fill-rule=\"evenodd\" fill-opacity=\"1\" /><path clip-path=\"url(#clip380)\" d=\"M1034.76 1544.91 L1051.08 1544.91 L1051.08 1548.85 L1029.13 1548.85 L1029.13 1544.91 Q1031.79 1542.16 1036.38 1537.53 Q1040.98 1532.88 1042.16 1531.53 Q1044.41 1529.01 1045.29 1527.27 Q1046.19 1525.51 1046.19 1523.82 Q1046.19 1521.07 1044.25 1519.33 Q1042.33 1517.6 1039.22 1517.6 Q1037.02 1517.6 1034.57 1518.36 Q1032.14 1519.13 1029.36 1520.68 L1029.36 1515.95 Q1032.19 1514.82 1034.64 1514.24 Q1037.09 1513.66 1039.13 1513.66 Q1044.5 1513.66 1047.7 1516.35 Q1050.89 1519.03 1050.89 1523.52 Q1050.89 1525.65 1050.08 1527.57 Q1049.29 1529.47 1047.19 1532.07 Q1046.61 1532.74 1043.51 1535.95 Q1040.4 1539.15 1034.76 1544.91 Z\" fill=\"#000000\" fill-rule=\"evenodd\" fill-opacity=\"1\" /><path clip-path=\"url(#clip380)\" d=\"M1461.46 1530.21 Q1464.82 1530.93 1466.69 1533.2 Q1468.59 1535.47 1468.59 1538.8 Q1468.59 1543.92 1465.07 1546.72 Q1461.56 1549.52 1455.07 1549.52 Q1452.9 1549.52 1450.58 1549.08 Q1448.29 1548.66 1445.84 1547.81 L1445.84 1543.29 Q1447.78 1544.43 1450.1 1545.01 Q1452.41 1545.58 1454.94 1545.58 Q1459.33 1545.58 1461.63 1543.85 Q1463.94 1542.11 1463.94 1538.8 Q1463.94 1535.75 1461.79 1534.03 Q1459.66 1532.3 1455.84 1532.3 L1451.81 1532.3 L1451.81 1528.45 L1456.02 1528.45 Q1459.47 1528.45 1461.3 1527.09 Q1463.13 1525.7 1463.13 1523.11 Q1463.13 1520.45 1461.23 1519.03 Q1459.36 1517.6 1455.84 1517.6 Q1453.92 1517.6 1451.72 1518.01 Q1449.52 1518.43 1446.88 1519.31 L1446.88 1515.14 Q1449.54 1514.4 1451.86 1514.03 Q1454.19 1513.66 1456.25 1513.66 Q1461.58 1513.66 1464.68 1516.09 Q1467.78 1518.5 1467.78 1522.62 Q1467.78 1525.49 1466.14 1527.48 Q1464.5 1529.45 1461.46 1530.21 Z\" fill=\"#000000\" fill-rule=\"evenodd\" fill-opacity=\"1\" /><path clip-path=\"url(#clip380)\" d=\"M1877.34 1518.36 L1865.53 1536.81 L1877.34 1536.81 L1877.34 1518.36 M1876.11 1514.29 L1881.99 1514.29 L1881.99 1536.81 L1886.92 1536.81 L1886.92 1540.7 L1881.99 1540.7 L1881.99 1548.85 L1877.34 1548.85 L1877.34 1540.7 L1861.74 1540.7 L1861.74 1536.19 L1876.11 1514.29 Z\" fill=\"#000000\" fill-rule=\"evenodd\" fill-opacity=\"1\" /><path clip-path=\"url(#clip380)\" d=\"M2281.72 1514.29 L2300.07 1514.29 L2300.07 1518.22 L2286 1518.22 L2286 1526.7 Q2287.02 1526.35 2288.04 1526.19 Q2289.06 1526 2290.07 1526 Q2295.86 1526 2299.24 1529.17 Q2302.62 1532.34 2302.62 1537.76 Q2302.62 1543.34 2299.15 1546.44 Q2295.68 1549.52 2289.36 1549.52 Q2287.18 1549.52 2284.91 1549.15 Q2282.67 1548.78 2280.26 1548.04 L2280.26 1543.34 Q2282.34 1544.47 2284.57 1545.03 Q2286.79 1545.58 2289.26 1545.58 Q2293.27 1545.58 2295.61 1543.48 Q2297.94 1541.37 2297.94 1537.76 Q2297.94 1534.15 2295.61 1532.04 Q2293.27 1529.94 2289.26 1529.94 Q2287.39 1529.94 2285.51 1530.35 Q2283.66 1530.77 2281.72 1531.65 L2281.72 1514.29 Z\" fill=\"#000000\" fill-rule=\"evenodd\" fill-opacity=\"1\" /><polyline clip-path=\"url(#clip382)\" style=\"stroke:#000000; stroke-linecap:butt; stroke-linejoin:round; stroke-width:2; stroke-opacity:0.1; fill:none\" points=\"\n  186.274,1268.61 2352.76,1268.61 \n  \"/>\n<polyline clip-path=\"url(#clip382)\" style=\"stroke:#000000; stroke-linecap:butt; stroke-linejoin:round; stroke-width:2; stroke-opacity:0.1; fill:none\" points=\"\n  186.274,964.275 2352.76,964.275 \n  \"/>\n<polyline clip-path=\"url(#clip382)\" style=\"stroke:#000000; stroke-linecap:butt; stroke-linejoin:round; stroke-width:2; stroke-opacity:0.1; fill:none\" points=\"\n  186.274,659.938 2352.76,659.938 \n  \"/>\n<polyline clip-path=\"url(#clip382)\" style=\"stroke:#000000; stroke-linecap:butt; stroke-linejoin:round; stroke-width:2; stroke-opacity:0.1; fill:none\" points=\"\n  186.274,355.601 2352.76,355.601 \n  \"/>\n<polyline clip-path=\"url(#clip382)\" style=\"stroke:#000000; stroke-linecap:butt; stroke-linejoin:round; stroke-width:2; stroke-opacity:0.1; fill:none\" points=\"\n  186.274,51.2639 2352.76,51.2639 \n  \"/>\n<polyline clip-path=\"url(#clip380)\" style=\"stroke:#000000; stroke-linecap:butt; stroke-linejoin:round; stroke-width:4; stroke-opacity:1; fill:none\" points=\"\n  186.274,1486.45 186.274,47.2441 \n  \"/>\n<polyline clip-path=\"url(#clip380)\" style=\"stroke:#000000; stroke-linecap:butt; stroke-linejoin:round; stroke-width:4; stroke-opacity:1; fill:none\" points=\"\n  186.274,1268.61 205.172,1268.61 \n  \"/>\n<polyline clip-path=\"url(#clip380)\" style=\"stroke:#000000; stroke-linecap:butt; stroke-linejoin:round; stroke-width:4; stroke-opacity:1; fill:none\" points=\"\n  186.274,964.275 205.172,964.275 \n  \"/>\n<polyline clip-path=\"url(#clip380)\" style=\"stroke:#000000; stroke-linecap:butt; stroke-linejoin:round; stroke-width:4; stroke-opacity:1; fill:none\" points=\"\n  186.274,659.938 205.172,659.938 \n  \"/>\n<polyline clip-path=\"url(#clip380)\" style=\"stroke:#000000; stroke-linecap:butt; stroke-linejoin:round; stroke-width:4; stroke-opacity:1; fill:none\" points=\"\n  186.274,355.601 205.172,355.601 \n  \"/>\n<polyline clip-path=\"url(#clip380)\" style=\"stroke:#000000; stroke-linecap:butt; stroke-linejoin:round; stroke-width:4; stroke-opacity:1; fill:none\" points=\"\n  186.274,51.2639 205.172,51.2639 \n  \"/>\n<path clip-path=\"url(#clip380)\" d=\"M62.9365 1254.41 Q59.3254 1254.41 57.4967 1257.98 Q55.6912 1261.52 55.6912 1268.65 Q55.6912 1275.75 57.4967 1279.32 Q59.3254 1282.86 62.9365 1282.86 Q66.5707 1282.86 68.3763 1279.32 Q70.205 1275.75 70.205 1268.65 Q70.205 1261.52 68.3763 1257.98 Q66.5707 1254.41 62.9365 1254.41 M62.9365 1250.71 Q68.7467 1250.71 71.8022 1255.31 Q74.8809 1259.9 74.8809 1268.65 Q74.8809 1277.37 71.8022 1281.98 Q68.7467 1286.56 62.9365 1286.56 Q57.1264 1286.56 54.0477 1281.98 Q50.9921 1277.37 50.9921 1268.65 Q50.9921 1259.9 54.0477 1255.31 Q57.1264 1250.71 62.9365 1250.71 Z\" fill=\"#000000\" fill-rule=\"evenodd\" fill-opacity=\"1\" /><path clip-path=\"url(#clip380)\" d=\"M83.0984 1280.01 L87.9827 1280.01 L87.9827 1285.89 L83.0984 1285.89 L83.0984 1280.01 Z\" fill=\"#000000\" fill-rule=\"evenodd\" fill-opacity=\"1\" /><path clip-path=\"url(#clip380)\" d=\"M102.196 1281.96 L118.515 1281.96 L118.515 1285.89 L96.5706 1285.89 L96.5706 1281.96 Q99.2326 1279.2 103.816 1274.57 Q108.422 1269.92 109.603 1268.58 Q111.848 1266.05 112.728 1264.32 Q113.631 1262.56 113.631 1260.87 Q113.631 1258.11 111.686 1256.38 Q109.765 1254.64 106.663 1254.64 Q104.464 1254.64 102.01 1255.41 Q99.5798 1256.17 96.8021 1257.72 L96.8021 1253 Q99.6261 1251.86 102.08 1251.29 Q104.534 1250.71 106.571 1250.71 Q111.941 1250.71 115.135 1253.39 Q118.33 1256.08 118.33 1260.57 Q118.33 1262.7 117.52 1264.62 Q116.733 1266.52 114.626 1269.11 Q114.047 1269.78 110.946 1273 Q107.844 1276.19 102.196 1281.96 Z\" fill=\"#000000\" fill-rule=\"evenodd\" fill-opacity=\"1\" /><path clip-path=\"url(#clip380)\" d=\"M138.33 1254.41 Q134.719 1254.41 132.89 1257.98 Q131.084 1261.52 131.084 1268.65 Q131.084 1275.75 132.89 1279.32 Q134.719 1282.86 138.33 1282.86 Q141.964 1282.86 143.769 1279.32 Q145.598 1275.75 145.598 1268.65 Q145.598 1261.52 143.769 1257.98 Q141.964 1254.41 138.33 1254.41 M138.33 1250.71 Q144.14 1250.71 147.195 1255.31 Q150.274 1259.9 150.274 1268.65 Q150.274 1277.37 147.195 1281.98 Q144.14 1286.56 138.33 1286.56 Q132.519 1286.56 129.441 1281.98 Q126.385 1277.37 126.385 1268.65 Q126.385 1259.9 129.441 1255.31 Q132.519 1250.71 138.33 1250.71 Z\" fill=\"#000000\" fill-rule=\"evenodd\" fill-opacity=\"1\" /><path clip-path=\"url(#clip380)\" d=\"M63.9319 950.073 Q60.3208 950.073 58.4921 953.638 Q56.6865 957.18 56.6865 964.309 Q56.6865 971.416 58.4921 974.981 Q60.3208 978.522 63.9319 978.522 Q67.5661 978.522 69.3717 974.981 Q71.2004 971.416 71.2004 964.309 Q71.2004 957.18 69.3717 953.638 Q67.5661 950.073 63.9319 950.073 M63.9319 946.37 Q69.742 946.37 72.7976 950.976 Q75.8763 955.559 75.8763 964.309 Q75.8763 973.036 72.7976 977.643 Q69.742 982.226 63.9319 982.226 Q58.1217 982.226 55.043 977.643 Q51.9875 973.036 51.9875 964.309 Q51.9875 955.559 55.043 950.976 Q58.1217 946.37 63.9319 946.37 Z\" fill=\"#000000\" fill-rule=\"evenodd\" fill-opacity=\"1\" /><path clip-path=\"url(#clip380)\" d=\"M84.0938 975.675 L88.978 975.675 L88.978 981.555 L84.0938 981.555 L84.0938 975.675 Z\" fill=\"#000000\" fill-rule=\"evenodd\" fill-opacity=\"1\" /><path clip-path=\"url(#clip380)\" d=\"M103.191 977.62 L119.51 977.62 L119.51 981.555 L97.566 981.555 L97.566 977.62 Q100.228 974.865 104.811 970.235 Q109.418 965.583 110.598 964.24 Q112.844 961.717 113.723 959.981 Q114.626 958.221 114.626 956.532 Q114.626 953.777 112.682 952.041 Q110.76 950.305 107.658 950.305 Q105.459 950.305 103.006 951.069 Q100.575 951.833 97.7974 953.384 L97.7974 948.661 Q100.621 947.527 103.075 946.948 Q105.529 946.37 107.566 946.37 Q112.936 946.37 116.131 949.055 Q119.325 951.74 119.325 956.231 Q119.325 958.36 118.515 960.282 Q117.728 962.18 115.621 964.772 Q115.043 965.444 111.941 968.661 Q108.839 971.856 103.191 977.62 Z\" fill=\"#000000\" fill-rule=\"evenodd\" fill-opacity=\"1\" /><path clip-path=\"url(#clip380)\" d=\"M129.371 946.995 L147.728 946.995 L147.728 950.93 L133.654 950.93 L133.654 959.402 Q134.672 959.055 135.691 958.893 Q136.709 958.708 137.728 958.708 Q143.515 958.708 146.894 961.879 Q150.274 965.05 150.274 970.467 Q150.274 976.045 146.802 979.147 Q143.33 982.226 137.01 982.226 Q134.834 982.226 132.566 981.856 Q130.32 981.485 127.913 980.745 L127.913 976.045 Q129.996 977.18 132.219 977.735 Q134.441 978.291 136.918 978.291 Q140.922 978.291 143.26 976.184 Q145.598 974.078 145.598 970.467 Q145.598 966.856 143.26 964.749 Q140.922 962.643 136.918 962.643 Q135.043 962.643 133.168 963.059 Q131.316 963.476 129.371 964.356 L129.371 946.995 Z\" fill=\"#000000\" fill-rule=\"evenodd\" fill-opacity=\"1\" /><path clip-path=\"url(#clip380)\" d=\"M62.9365 645.736 Q59.3254 645.736 57.4967 649.301 Q55.6912 652.843 55.6912 659.972 Q55.6912 667.079 57.4967 670.644 Q59.3254 674.185 62.9365 674.185 Q66.5707 674.185 68.3763 670.644 Q70.205 667.079 70.205 659.972 Q70.205 652.843 68.3763 649.301 Q66.5707 645.736 62.9365 645.736 M62.9365 642.033 Q68.7467 642.033 71.8022 646.639 Q74.8809 651.223 74.8809 659.972 Q74.8809 668.699 71.8022 673.306 Q68.7467 677.889 62.9365 677.889 Q57.1264 677.889 54.0477 673.306 Q50.9921 668.699 50.9921 659.972 Q50.9921 651.223 54.0477 646.639 Q57.1264 642.033 62.9365 642.033 Z\" fill=\"#000000\" fill-rule=\"evenodd\" fill-opacity=\"1\" /><path clip-path=\"url(#clip380)\" d=\"M83.0984 671.338 L87.9827 671.338 L87.9827 677.218 L83.0984 677.218 L83.0984 671.338 Z\" fill=\"#000000\" fill-rule=\"evenodd\" fill-opacity=\"1\" /><path clip-path=\"url(#clip380)\" d=\"M112.334 658.584 Q115.691 659.301 117.566 661.57 Q119.464 663.838 119.464 667.172 Q119.464 672.287 115.945 675.088 Q112.427 677.889 105.946 677.889 Q103.77 677.889 101.455 677.449 Q99.1632 677.033 96.7095 676.176 L96.7095 671.662 Q98.6539 672.796 100.969 673.375 Q103.284 673.954 105.807 673.954 Q110.205 673.954 112.496 672.218 Q114.811 670.482 114.811 667.172 Q114.811 664.116 112.658 662.403 Q110.529 660.667 106.709 660.667 L102.682 660.667 L102.682 656.824 L106.895 656.824 Q110.344 656.824 112.172 655.459 Q114.001 654.07 114.001 651.477 Q114.001 648.815 112.103 647.403 Q110.228 645.968 106.709 645.968 Q104.788 645.968 102.589 646.385 Q100.39 646.801 97.7511 647.681 L97.7511 643.514 Q100.413 642.773 102.728 642.403 Q105.066 642.033 107.126 642.033 Q112.45 642.033 115.552 644.463 Q118.654 646.871 118.654 650.991 Q118.654 653.861 117.01 655.852 Q115.367 657.82 112.334 658.584 Z\" fill=\"#000000\" fill-rule=\"evenodd\" fill-opacity=\"1\" /><path clip-path=\"url(#clip380)\" d=\"M138.33 645.736 Q134.719 645.736 132.89 649.301 Q131.084 652.843 131.084 659.972 Q131.084 667.079 132.89 670.644 Q134.719 674.185 138.33 674.185 Q141.964 674.185 143.769 670.644 Q145.598 667.079 145.598 659.972 Q145.598 652.843 143.769 649.301 Q141.964 645.736 138.33 645.736 M138.33 642.033 Q144.14 642.033 147.195 646.639 Q150.274 651.223 150.274 659.972 Q150.274 668.699 147.195 673.306 Q144.14 677.889 138.33 677.889 Q132.519 677.889 129.441 673.306 Q126.385 668.699 126.385 659.972 Q126.385 651.223 129.441 646.639 Q132.519 642.033 138.33 642.033 Z\" fill=\"#000000\" fill-rule=\"evenodd\" fill-opacity=\"1\" /><path clip-path=\"url(#clip380)\" d=\"M63.9319 341.399 Q60.3208 341.399 58.4921 344.964 Q56.6865 348.506 56.6865 355.636 Q56.6865 362.742 58.4921 366.307 Q60.3208 369.848 63.9319 369.848 Q67.5661 369.848 69.3717 366.307 Q71.2004 362.742 71.2004 355.636 Q71.2004 348.506 69.3717 344.964 Q67.5661 341.399 63.9319 341.399 M63.9319 337.696 Q69.742 337.696 72.7976 342.302 Q75.8763 346.886 75.8763 355.636 Q75.8763 364.362 72.7976 368.969 Q69.742 373.552 63.9319 373.552 Q58.1217 373.552 55.043 368.969 Q51.9875 364.362 51.9875 355.636 Q51.9875 346.886 55.043 342.302 Q58.1217 337.696 63.9319 337.696 Z\" fill=\"#000000\" fill-rule=\"evenodd\" fill-opacity=\"1\" /><path clip-path=\"url(#clip380)\" d=\"M84.0938 367.001 L88.978 367.001 L88.978 372.881 L84.0938 372.881 L84.0938 367.001 Z\" fill=\"#000000\" fill-rule=\"evenodd\" fill-opacity=\"1\" /><path clip-path=\"url(#clip380)\" d=\"M113.33 354.247 Q116.686 354.964 118.561 357.233 Q120.459 359.501 120.459 362.835 Q120.459 367.95 116.941 370.751 Q113.422 373.552 106.941 373.552 Q104.765 373.552 102.45 373.112 Q100.159 372.696 97.7048 371.839 L97.7048 367.325 Q99.6493 368.46 101.964 369.038 Q104.279 369.617 106.802 369.617 Q111.2 369.617 113.492 367.881 Q115.807 366.145 115.807 362.835 Q115.807 359.779 113.654 358.066 Q111.524 356.33 107.705 356.33 L103.677 356.33 L103.677 352.487 L107.89 352.487 Q111.339 352.487 113.168 351.122 Q114.996 349.733 114.996 347.14 Q114.996 344.478 113.098 343.066 Q111.223 341.631 107.705 341.631 Q105.783 341.631 103.584 342.048 Q101.385 342.464 98.7465 343.344 L98.7465 339.177 Q101.409 338.437 103.723 338.066 Q106.061 337.696 108.121 337.696 Q113.445 337.696 116.547 340.126 Q119.649 342.534 119.649 346.654 Q119.649 349.524 118.006 351.515 Q116.362 353.483 113.33 354.247 Z\" fill=\"#000000\" fill-rule=\"evenodd\" fill-opacity=\"1\" /><path clip-path=\"url(#clip380)\" d=\"M129.371 338.321 L147.728 338.321 L147.728 342.256 L133.654 342.256 L133.654 350.728 Q134.672 350.381 135.691 350.219 Q136.709 350.034 137.728 350.034 Q143.515 350.034 146.894 353.205 Q150.274 356.376 150.274 361.793 Q150.274 367.372 146.802 370.473 Q143.33 373.552 137.01 373.552 Q134.834 373.552 132.566 373.182 Q130.32 372.811 127.913 372.071 L127.913 367.372 Q129.996 368.506 132.219 369.061 Q134.441 369.617 136.918 369.617 Q140.922 369.617 143.26 367.51 Q145.598 365.404 145.598 361.793 Q145.598 358.182 143.26 356.075 Q140.922 353.969 136.918 353.969 Q135.043 353.969 133.168 354.386 Q131.316 354.802 129.371 355.682 L129.371 338.321 Z\" fill=\"#000000\" fill-rule=\"evenodd\" fill-opacity=\"1\" /><path clip-path=\"url(#clip380)\" d=\"M62.9365 37.0625 Q59.3254 37.0625 57.4967 40.6273 Q55.6912 44.169 55.6912 51.2986 Q55.6912 58.405 57.4967 61.9698 Q59.3254 65.5115 62.9365 65.5115 Q66.5707 65.5115 68.3763 61.9698 Q70.205 58.405 70.205 51.2986 Q70.205 44.169 68.3763 40.6273 Q66.5707 37.0625 62.9365 37.0625 M62.9365 33.3589 Q68.7467 33.3589 71.8022 37.9653 Q74.8809 42.5486 74.8809 51.2986 Q74.8809 60.0254 71.8022 64.6318 Q68.7467 69.2151 62.9365 69.2151 Q57.1264 69.2151 54.0477 64.6318 Q50.9921 60.0254 50.9921 51.2986 Q50.9921 42.5486 54.0477 37.9653 Q57.1264 33.3589 62.9365 33.3589 Z\" fill=\"#000000\" fill-rule=\"evenodd\" fill-opacity=\"1\" /><path clip-path=\"url(#clip380)\" d=\"M83.0984 62.6643 L87.9827 62.6643 L87.9827 68.5439 L83.0984 68.5439 L83.0984 62.6643 Z\" fill=\"#000000\" fill-rule=\"evenodd\" fill-opacity=\"1\" /><path clip-path=\"url(#clip380)\" d=\"M111.015 38.0579 L99.2095 56.5069 L111.015 56.5069 L111.015 38.0579 M109.788 33.9839 L115.668 33.9839 L115.668 56.5069 L120.598 56.5069 L120.598 60.3958 L115.668 60.3958 L115.668 68.5439 L111.015 68.5439 L111.015 60.3958 L95.4132 60.3958 L95.4132 55.8819 L109.788 33.9839 Z\" fill=\"#000000\" fill-rule=\"evenodd\" fill-opacity=\"1\" /><path clip-path=\"url(#clip380)\" d=\"M138.33 37.0625 Q134.719 37.0625 132.89 40.6273 Q131.084 44.169 131.084 51.2986 Q131.084 58.405 132.89 61.9698 Q134.719 65.5115 138.33 65.5115 Q141.964 65.5115 143.769 61.9698 Q145.598 58.405 145.598 51.2986 Q145.598 44.169 143.769 40.6273 Q141.964 37.0625 138.33 37.0625 M138.33 33.3589 Q144.14 33.3589 147.195 37.9653 Q150.274 42.5486 150.274 51.2986 Q150.274 60.0254 147.195 64.6318 Q144.14 69.2151 138.33 69.2151 Q132.519 69.2151 129.441 64.6318 Q126.385 60.0254 126.385 51.2986 Q126.385 42.5486 129.441 37.9653 Q132.519 33.3589 138.33 33.3589 Z\" fill=\"#000000\" fill-rule=\"evenodd\" fill-opacity=\"1\" /><polyline clip-path=\"url(#clip382)\" style=\"stroke:#009af9; stroke-linecap:butt; stroke-linejoin:round; stroke-width:4; stroke-opacity:1; fill:none\" points=\"\n  247.59,1445.72 268.234,1285.76 288.879,1163.5 309.524,1065.25 330.169,982.746 350.814,911.789 371.459,849.719 392.104,794.71 412.749,745.456 433.394,700.987 \n  454.039,660.563 474.684,623.602 495.329,589.645 515.974,558.315 536.619,529.306 557.264,502.362 577.909,477.267 598.554,453.837 619.199,431.914 639.844,411.365 \n  660.489,392.071 681.134,373.928 701.779,356.844 722.424,340.738 743.069,325.54 763.713,311.187 784.358,297.621 805.003,284.789 825.648,272.643 846.293,261.144 \n  866.938,250.257 887.583,239.941 908.228,230.162 928.873,220.889 949.518,212.11 970.163,203.789 990.808,195.9 1011.45,188.42 1032.1,181.328 1052.74,174.609 \n  1073.39,168.246 1094.03,162.222 1114.68,156.519 1135.32,151.126 1155.97,146.034 1176.61,141.223 1197.26,136.683 1217.9,132.416 1238.55,128.398 1259.19,124.62 \n  1279.84,121.072 1300.48,117.746 1321.13,114.633 1341.77,111.728 1362.42,109.022 1383.06,106.508 1403.71,104.184 1424.35,102.038 1445,100.074 1465.64,98.2774 \n  1486.29,96.641 1506.93,95.1598 1527.58,93.8293 1548.22,92.645 1568.87,91.603 1589.51,90.6996 1610.16,89.9317 1630.8,89.297 1651.45,88.7947 1672.09,88.4179 \n  1692.74,88.1579 1713.38,88.0118 1734.03,87.9763 1754.67,88.0482 1775.32,88.2248 1795.96,88.5036 1816.61,88.8823 1837.25,89.3597 1857.9,89.9419 1878.54,90.6267 \n  1899.19,91.4012 1919.83,92.2627 1940.48,93.2091 1961.12,94.238 1981.77,95.3475 2002.41,96.5356 2023.06,97.8007 2043.7,99.141 2064.35,100.56 2084.99,102.055 \n  2105.64,103.622 2126.28,105.259 2146.93,106.965 2167.57,108.736 2188.22,110.572 2208.86,112.471 2229.51,114.431 2250.15,116.453 2270.8,118.537 2291.44,120.68 \n  \n  \"/>\n<path clip-path=\"url(#clip380)\" d=\"\nM1987.39 198.898 L2280.54 198.898 L2280.54 95.2176 L1987.39 95.2176  Z\n  \" fill=\"#ffffff\" fill-rule=\"evenodd\" fill-opacity=\"1\"/>\n<polyline clip-path=\"url(#clip380)\" style=\"stroke:#000000; stroke-linecap:butt; stroke-linejoin:round; stroke-width:4; stroke-opacity:1; fill:none\" points=\"\n  1987.39,198.898 2280.54,198.898 2280.54,95.2176 1987.39,95.2176 1987.39,198.898 \n  \"/>\n<polyline clip-path=\"url(#clip380)\" style=\"stroke:#009af9; stroke-linecap:butt; stroke-linejoin:round; stroke-width:4; stroke-opacity:1; fill:none\" points=\"\n  2011.46,147.058 2155.89,147.058 \n  \"/>\n<path clip-path=\"url(#clip380)\" d=\"M2193.81 166.745 Q2192 171.375 2190.29 172.787 Q2188.58 174.199 2185.71 174.199 L2182.3 174.199 L2182.3 170.634 L2184.8 170.634 Q2186.56 170.634 2187.53 169.8 Q2188.51 168.967 2189.69 165.865 L2190.45 163.921 L2179.97 138.412 L2184.48 138.412 L2192.58 158.689 L2200.68 138.412 L2205.2 138.412 L2193.81 166.745 Z\" fill=\"#000000\" fill-rule=\"evenodd\" fill-opacity=\"1\" /><path clip-path=\"url(#clip380)\" d=\"M2212.49 160.402 L2220.13 160.402 L2220.13 134.037 L2211.82 135.703 L2211.82 131.444 L2220.08 129.778 L2224.76 129.778 L2224.76 160.402 L2232.4 160.402 L2232.4 164.338 L2212.49 164.338 L2212.49 160.402 Z\" fill=\"#000000\" fill-rule=\"evenodd\" fill-opacity=\"1\" /></svg>\n",
      "text/html": [
       "<?xml version=\"1.0\" encoding=\"utf-8\"?>\n",
       "<svg xmlns=\"http://www.w3.org/2000/svg\" xmlns:xlink=\"http://www.w3.org/1999/xlink\" width=\"600\" height=\"400\" viewBox=\"0 0 2400 1600\">\n",
       "<defs>\n",
       "  <clipPath id=\"clip430\">\n",
       "    <rect x=\"0\" y=\"0\" width=\"2400\" height=\"1600\"/>\n",
       "  </clipPath>\n",
       "</defs>\n",
       "<path clip-path=\"url(#clip430)\" d=\"\n",
       "M0 1600 L2400 1600 L2400 0 L0 0  Z\n",
       "  \" fill=\"#ffffff\" fill-rule=\"evenodd\" fill-opacity=\"1\"/>\n",
       "<defs>\n",
       "  <clipPath id=\"clip431\">\n",
       "    <rect x=\"480\" y=\"0\" width=\"1681\" height=\"1600\"/>\n",
       "  </clipPath>\n",
       "</defs>\n",
       "<path clip-path=\"url(#clip430)\" d=\"\n",
       "M186.274 1486.45 L2352.76 1486.45 L2352.76 47.2441 L186.274 47.2441  Z\n",
       "  \" fill=\"#ffffff\" fill-rule=\"evenodd\" fill-opacity=\"1\"/>\n",
       "<defs>\n",
       "  <clipPath id=\"clip432\">\n",
       "    <rect x=\"186\" y=\"47\" width=\"2167\" height=\"1440\"/>\n",
       "  </clipPath>\n",
       "</defs>\n",
       "<polyline clip-path=\"url(#clip432)\" style=\"stroke:#000000; stroke-linecap:butt; stroke-linejoin:round; stroke-width:2; stroke-opacity:0.1; fill:none\" points=\"\n",
       "  205.878,1486.45 205.878,47.2441 \n",
       "  \"/>\n",
       "<polyline clip-path=\"url(#clip432)\" style=\"stroke:#000000; stroke-linecap:butt; stroke-linejoin:round; stroke-width:2; stroke-opacity:0.1; fill:none\" points=\"\n",
       "  622.991,1486.45 622.991,47.2441 \n",
       "  \"/>\n",
       "<polyline clip-path=\"url(#clip432)\" style=\"stroke:#000000; stroke-linecap:butt; stroke-linejoin:round; stroke-width:2; stroke-opacity:0.1; fill:none\" points=\"\n",
       "  1040.1,1486.45 1040.1,47.2441 \n",
       "  \"/>\n",
       "<polyline clip-path=\"url(#clip432)\" style=\"stroke:#000000; stroke-linecap:butt; stroke-linejoin:round; stroke-width:2; stroke-opacity:0.1; fill:none\" points=\"\n",
       "  1457.22,1486.45 1457.22,47.2441 \n",
       "  \"/>\n",
       "<polyline clip-path=\"url(#clip432)\" style=\"stroke:#000000; stroke-linecap:butt; stroke-linejoin:round; stroke-width:2; stroke-opacity:0.1; fill:none\" points=\"\n",
       "  1874.33,1486.45 1874.33,47.2441 \n",
       "  \"/>\n",
       "<polyline clip-path=\"url(#clip432)\" style=\"stroke:#000000; stroke-linecap:butt; stroke-linejoin:round; stroke-width:2; stroke-opacity:0.1; fill:none\" points=\"\n",
       "  2291.44,1486.45 2291.44,47.2441 \n",
       "  \"/>\n",
       "<polyline clip-path=\"url(#clip430)\" style=\"stroke:#000000; stroke-linecap:butt; stroke-linejoin:round; stroke-width:4; stroke-opacity:1; fill:none\" points=\"\n",
       "  186.274,1486.45 2352.76,1486.45 \n",
       "  \"/>\n",
       "<polyline clip-path=\"url(#clip430)\" style=\"stroke:#000000; stroke-linecap:butt; stroke-linejoin:round; stroke-width:4; stroke-opacity:1; fill:none\" points=\"\n",
       "  205.878,1486.45 205.878,1467.55 \n",
       "  \"/>\n",
       "<polyline clip-path=\"url(#clip430)\" style=\"stroke:#000000; stroke-linecap:butt; stroke-linejoin:round; stroke-width:4; stroke-opacity:1; fill:none\" points=\"\n",
       "  622.991,1486.45 622.991,1467.55 \n",
       "  \"/>\n",
       "<polyline clip-path=\"url(#clip430)\" style=\"stroke:#000000; stroke-linecap:butt; stroke-linejoin:round; stroke-width:4; stroke-opacity:1; fill:none\" points=\"\n",
       "  1040.1,1486.45 1040.1,1467.55 \n",
       "  \"/>\n",
       "<polyline clip-path=\"url(#clip430)\" style=\"stroke:#000000; stroke-linecap:butt; stroke-linejoin:round; stroke-width:4; stroke-opacity:1; fill:none\" points=\"\n",
       "  1457.22,1486.45 1457.22,1467.55 \n",
       "  \"/>\n",
       "<polyline clip-path=\"url(#clip430)\" style=\"stroke:#000000; stroke-linecap:butt; stroke-linejoin:round; stroke-width:4; stroke-opacity:1; fill:none\" points=\"\n",
       "  1874.33,1486.45 1874.33,1467.55 \n",
       "  \"/>\n",
       "<polyline clip-path=\"url(#clip430)\" style=\"stroke:#000000; stroke-linecap:butt; stroke-linejoin:round; stroke-width:4; stroke-opacity:1; fill:none\" points=\"\n",
       "  2291.44,1486.45 2291.44,1467.55 \n",
       "  \"/>\n",
       "<path clip-path=\"url(#clip430)\" d=\"M205.878 1517.37 Q202.267 1517.37 200.438 1520.93 Q198.633 1524.47 198.633 1531.6 Q198.633 1538.71 200.438 1542.27 Q202.267 1545.82 205.878 1545.82 Q209.513 1545.82 211.318 1542.27 Q213.147 1538.71 213.147 1531.6 Q213.147 1524.47 211.318 1520.93 Q209.513 1517.37 205.878 1517.37 M205.878 1513.66 Q211.688 1513.66 214.744 1518.27 Q217.823 1522.85 217.823 1531.6 Q217.823 1540.33 214.744 1544.94 Q211.688 1549.52 205.878 1549.52 Q200.068 1549.52 196.989 1544.94 Q193.934 1540.33 193.934 1531.6 Q193.934 1522.85 196.989 1518.27 Q200.068 1513.66 205.878 1513.66 Z\" fill=\"#000000\" fill-rule=\"evenodd\" fill-opacity=\"1\" /><path clip-path=\"url(#clip430)\" d=\"M613.373 1544.91 L621.012 1544.91 L621.012 1518.55 L612.701 1520.21 L612.701 1515.95 L620.965 1514.29 L625.641 1514.29 L625.641 1544.91 L633.28 1544.91 L633.28 1548.85 L613.373 1548.85 L613.373 1544.91 Z\" fill=\"#000000\" fill-rule=\"evenodd\" fill-opacity=\"1\" /><path clip-path=\"url(#clip430)\" d=\"M1034.76 1544.91 L1051.08 1544.91 L1051.08 1548.85 L1029.13 1548.85 L1029.13 1544.91 Q1031.79 1542.16 1036.38 1537.53 Q1040.98 1532.88 1042.16 1531.53 Q1044.41 1529.01 1045.29 1527.27 Q1046.19 1525.51 1046.19 1523.82 Q1046.19 1521.07 1044.25 1519.33 Q1042.33 1517.6 1039.22 1517.6 Q1037.02 1517.6 1034.57 1518.36 Q1032.14 1519.13 1029.36 1520.68 L1029.36 1515.95 Q1032.19 1514.82 1034.64 1514.24 Q1037.09 1513.66 1039.13 1513.66 Q1044.5 1513.66 1047.7 1516.35 Q1050.89 1519.03 1050.89 1523.52 Q1050.89 1525.65 1050.08 1527.57 Q1049.29 1529.47 1047.19 1532.07 Q1046.61 1532.74 1043.51 1535.95 Q1040.4 1539.15 1034.76 1544.91 Z\" fill=\"#000000\" fill-rule=\"evenodd\" fill-opacity=\"1\" /><path clip-path=\"url(#clip430)\" d=\"M1461.46 1530.21 Q1464.82 1530.93 1466.69 1533.2 Q1468.59 1535.47 1468.59 1538.8 Q1468.59 1543.92 1465.07 1546.72 Q1461.56 1549.52 1455.07 1549.52 Q1452.9 1549.52 1450.58 1549.08 Q1448.29 1548.66 1445.84 1547.81 L1445.84 1543.29 Q1447.78 1544.43 1450.1 1545.01 Q1452.41 1545.58 1454.94 1545.58 Q1459.33 1545.58 1461.63 1543.85 Q1463.94 1542.11 1463.94 1538.8 Q1463.94 1535.75 1461.79 1534.03 Q1459.66 1532.3 1455.84 1532.3 L1451.81 1532.3 L1451.81 1528.45 L1456.02 1528.45 Q1459.47 1528.45 1461.3 1527.09 Q1463.13 1525.7 1463.13 1523.11 Q1463.13 1520.45 1461.23 1519.03 Q1459.36 1517.6 1455.84 1517.6 Q1453.92 1517.6 1451.72 1518.01 Q1449.52 1518.43 1446.88 1519.31 L1446.88 1515.14 Q1449.54 1514.4 1451.86 1514.03 Q1454.19 1513.66 1456.25 1513.66 Q1461.58 1513.66 1464.68 1516.09 Q1467.78 1518.5 1467.78 1522.62 Q1467.78 1525.49 1466.14 1527.48 Q1464.5 1529.45 1461.46 1530.21 Z\" fill=\"#000000\" fill-rule=\"evenodd\" fill-opacity=\"1\" /><path clip-path=\"url(#clip430)\" d=\"M1877.34 1518.36 L1865.53 1536.81 L1877.34 1536.81 L1877.34 1518.36 M1876.11 1514.29 L1881.99 1514.29 L1881.99 1536.81 L1886.92 1536.81 L1886.92 1540.7 L1881.99 1540.7 L1881.99 1548.85 L1877.34 1548.85 L1877.34 1540.7 L1861.74 1540.7 L1861.74 1536.19 L1876.11 1514.29 Z\" fill=\"#000000\" fill-rule=\"evenodd\" fill-opacity=\"1\" /><path clip-path=\"url(#clip430)\" d=\"M2281.72 1514.29 L2300.07 1514.29 L2300.07 1518.22 L2286 1518.22 L2286 1526.7 Q2287.02 1526.35 2288.04 1526.19 Q2289.06 1526 2290.07 1526 Q2295.86 1526 2299.24 1529.17 Q2302.62 1532.34 2302.62 1537.76 Q2302.62 1543.34 2299.15 1546.44 Q2295.68 1549.52 2289.36 1549.52 Q2287.18 1549.52 2284.91 1549.15 Q2282.67 1548.78 2280.26 1548.04 L2280.26 1543.34 Q2282.34 1544.47 2284.57 1545.03 Q2286.79 1545.58 2289.26 1545.58 Q2293.27 1545.58 2295.61 1543.48 Q2297.94 1541.37 2297.94 1537.76 Q2297.94 1534.15 2295.61 1532.04 Q2293.27 1529.94 2289.26 1529.94 Q2287.39 1529.94 2285.51 1530.35 Q2283.66 1530.77 2281.72 1531.65 L2281.72 1514.29 Z\" fill=\"#000000\" fill-rule=\"evenodd\" fill-opacity=\"1\" /><polyline clip-path=\"url(#clip432)\" style=\"stroke:#000000; stroke-linecap:butt; stroke-linejoin:round; stroke-width:2; stroke-opacity:0.1; fill:none\" points=\"\n",
       "  186.274,1268.61 2352.76,1268.61 \n",
       "  \"/>\n",
       "<polyline clip-path=\"url(#clip432)\" style=\"stroke:#000000; stroke-linecap:butt; stroke-linejoin:round; stroke-width:2; stroke-opacity:0.1; fill:none\" points=\"\n",
       "  186.274,964.275 2352.76,964.275 \n",
       "  \"/>\n",
       "<polyline clip-path=\"url(#clip432)\" style=\"stroke:#000000; stroke-linecap:butt; stroke-linejoin:round; stroke-width:2; stroke-opacity:0.1; fill:none\" points=\"\n",
       "  186.274,659.938 2352.76,659.938 \n",
       "  \"/>\n",
       "<polyline clip-path=\"url(#clip432)\" style=\"stroke:#000000; stroke-linecap:butt; stroke-linejoin:round; stroke-width:2; stroke-opacity:0.1; fill:none\" points=\"\n",
       "  186.274,355.601 2352.76,355.601 \n",
       "  \"/>\n",
       "<polyline clip-path=\"url(#clip432)\" style=\"stroke:#000000; stroke-linecap:butt; stroke-linejoin:round; stroke-width:2; stroke-opacity:0.1; fill:none\" points=\"\n",
       "  186.274,51.2639 2352.76,51.2639 \n",
       "  \"/>\n",
       "<polyline clip-path=\"url(#clip430)\" style=\"stroke:#000000; stroke-linecap:butt; stroke-linejoin:round; stroke-width:4; stroke-opacity:1; fill:none\" points=\"\n",
       "  186.274,1486.45 186.274,47.2441 \n",
       "  \"/>\n",
       "<polyline clip-path=\"url(#clip430)\" style=\"stroke:#000000; stroke-linecap:butt; stroke-linejoin:round; stroke-width:4; stroke-opacity:1; fill:none\" points=\"\n",
       "  186.274,1268.61 205.172,1268.61 \n",
       "  \"/>\n",
       "<polyline clip-path=\"url(#clip430)\" style=\"stroke:#000000; stroke-linecap:butt; stroke-linejoin:round; stroke-width:4; stroke-opacity:1; fill:none\" points=\"\n",
       "  186.274,964.275 205.172,964.275 \n",
       "  \"/>\n",
       "<polyline clip-path=\"url(#clip430)\" style=\"stroke:#000000; stroke-linecap:butt; stroke-linejoin:round; stroke-width:4; stroke-opacity:1; fill:none\" points=\"\n",
       "  186.274,659.938 205.172,659.938 \n",
       "  \"/>\n",
       "<polyline clip-path=\"url(#clip430)\" style=\"stroke:#000000; stroke-linecap:butt; stroke-linejoin:round; stroke-width:4; stroke-opacity:1; fill:none\" points=\"\n",
       "  186.274,355.601 205.172,355.601 \n",
       "  \"/>\n",
       "<polyline clip-path=\"url(#clip430)\" style=\"stroke:#000000; stroke-linecap:butt; stroke-linejoin:round; stroke-width:4; stroke-opacity:1; fill:none\" points=\"\n",
       "  186.274,51.2639 205.172,51.2639 \n",
       "  \"/>\n",
       "<path clip-path=\"url(#clip430)\" d=\"M62.9365 1254.41 Q59.3254 1254.41 57.4967 1257.98 Q55.6912 1261.52 55.6912 1268.65 Q55.6912 1275.75 57.4967 1279.32 Q59.3254 1282.86 62.9365 1282.86 Q66.5707 1282.86 68.3763 1279.32 Q70.205 1275.75 70.205 1268.65 Q70.205 1261.52 68.3763 1257.98 Q66.5707 1254.41 62.9365 1254.41 M62.9365 1250.71 Q68.7467 1250.71 71.8022 1255.31 Q74.8809 1259.9 74.8809 1268.65 Q74.8809 1277.37 71.8022 1281.98 Q68.7467 1286.56 62.9365 1286.56 Q57.1264 1286.56 54.0477 1281.98 Q50.9921 1277.37 50.9921 1268.65 Q50.9921 1259.9 54.0477 1255.31 Q57.1264 1250.71 62.9365 1250.71 Z\" fill=\"#000000\" fill-rule=\"evenodd\" fill-opacity=\"1\" /><path clip-path=\"url(#clip430)\" d=\"M83.0984 1280.01 L87.9827 1280.01 L87.9827 1285.89 L83.0984 1285.89 L83.0984 1280.01 Z\" fill=\"#000000\" fill-rule=\"evenodd\" fill-opacity=\"1\" /><path clip-path=\"url(#clip430)\" d=\"M102.196 1281.96 L118.515 1281.96 L118.515 1285.89 L96.5706 1285.89 L96.5706 1281.96 Q99.2326 1279.2 103.816 1274.57 Q108.422 1269.92 109.603 1268.58 Q111.848 1266.05 112.728 1264.32 Q113.631 1262.56 113.631 1260.87 Q113.631 1258.11 111.686 1256.38 Q109.765 1254.64 106.663 1254.64 Q104.464 1254.64 102.01 1255.41 Q99.5798 1256.17 96.8021 1257.72 L96.8021 1253 Q99.6261 1251.86 102.08 1251.29 Q104.534 1250.71 106.571 1250.71 Q111.941 1250.71 115.135 1253.39 Q118.33 1256.08 118.33 1260.57 Q118.33 1262.7 117.52 1264.62 Q116.733 1266.52 114.626 1269.11 Q114.047 1269.78 110.946 1273 Q107.844 1276.19 102.196 1281.96 Z\" fill=\"#000000\" fill-rule=\"evenodd\" fill-opacity=\"1\" /><path clip-path=\"url(#clip430)\" d=\"M138.33 1254.41 Q134.719 1254.41 132.89 1257.98 Q131.084 1261.52 131.084 1268.65 Q131.084 1275.75 132.89 1279.32 Q134.719 1282.86 138.33 1282.86 Q141.964 1282.86 143.769 1279.32 Q145.598 1275.75 145.598 1268.65 Q145.598 1261.52 143.769 1257.98 Q141.964 1254.41 138.33 1254.41 M138.33 1250.71 Q144.14 1250.71 147.195 1255.31 Q150.274 1259.9 150.274 1268.65 Q150.274 1277.37 147.195 1281.98 Q144.14 1286.56 138.33 1286.56 Q132.519 1286.56 129.441 1281.98 Q126.385 1277.37 126.385 1268.65 Q126.385 1259.9 129.441 1255.31 Q132.519 1250.71 138.33 1250.71 Z\" fill=\"#000000\" fill-rule=\"evenodd\" fill-opacity=\"1\" /><path clip-path=\"url(#clip430)\" d=\"M63.9319 950.073 Q60.3208 950.073 58.4921 953.638 Q56.6865 957.18 56.6865 964.309 Q56.6865 971.416 58.4921 974.981 Q60.3208 978.522 63.9319 978.522 Q67.5661 978.522 69.3717 974.981 Q71.2004 971.416 71.2004 964.309 Q71.2004 957.18 69.3717 953.638 Q67.5661 950.073 63.9319 950.073 M63.9319 946.37 Q69.742 946.37 72.7976 950.976 Q75.8763 955.559 75.8763 964.309 Q75.8763 973.036 72.7976 977.643 Q69.742 982.226 63.9319 982.226 Q58.1217 982.226 55.043 977.643 Q51.9875 973.036 51.9875 964.309 Q51.9875 955.559 55.043 950.976 Q58.1217 946.37 63.9319 946.37 Z\" fill=\"#000000\" fill-rule=\"evenodd\" fill-opacity=\"1\" /><path clip-path=\"url(#clip430)\" d=\"M84.0938 975.675 L88.978 975.675 L88.978 981.555 L84.0938 981.555 L84.0938 975.675 Z\" fill=\"#000000\" fill-rule=\"evenodd\" fill-opacity=\"1\" /><path clip-path=\"url(#clip430)\" d=\"M103.191 977.62 L119.51 977.62 L119.51 981.555 L97.566 981.555 L97.566 977.62 Q100.228 974.865 104.811 970.235 Q109.418 965.583 110.598 964.24 Q112.844 961.717 113.723 959.981 Q114.626 958.221 114.626 956.532 Q114.626 953.777 112.682 952.041 Q110.76 950.305 107.658 950.305 Q105.459 950.305 103.006 951.069 Q100.575 951.833 97.7974 953.384 L97.7974 948.661 Q100.621 947.527 103.075 946.948 Q105.529 946.37 107.566 946.37 Q112.936 946.37 116.131 949.055 Q119.325 951.74 119.325 956.231 Q119.325 958.36 118.515 960.282 Q117.728 962.18 115.621 964.772 Q115.043 965.444 111.941 968.661 Q108.839 971.856 103.191 977.62 Z\" fill=\"#000000\" fill-rule=\"evenodd\" fill-opacity=\"1\" /><path clip-path=\"url(#clip430)\" d=\"M129.371 946.995 L147.728 946.995 L147.728 950.93 L133.654 950.93 L133.654 959.402 Q134.672 959.055 135.691 958.893 Q136.709 958.708 137.728 958.708 Q143.515 958.708 146.894 961.879 Q150.274 965.05 150.274 970.467 Q150.274 976.045 146.802 979.147 Q143.33 982.226 137.01 982.226 Q134.834 982.226 132.566 981.856 Q130.32 981.485 127.913 980.745 L127.913 976.045 Q129.996 977.18 132.219 977.735 Q134.441 978.291 136.918 978.291 Q140.922 978.291 143.26 976.184 Q145.598 974.078 145.598 970.467 Q145.598 966.856 143.26 964.749 Q140.922 962.643 136.918 962.643 Q135.043 962.643 133.168 963.059 Q131.316 963.476 129.371 964.356 L129.371 946.995 Z\" fill=\"#000000\" fill-rule=\"evenodd\" fill-opacity=\"1\" /><path clip-path=\"url(#clip430)\" d=\"M62.9365 645.736 Q59.3254 645.736 57.4967 649.301 Q55.6912 652.843 55.6912 659.972 Q55.6912 667.079 57.4967 670.644 Q59.3254 674.185 62.9365 674.185 Q66.5707 674.185 68.3763 670.644 Q70.205 667.079 70.205 659.972 Q70.205 652.843 68.3763 649.301 Q66.5707 645.736 62.9365 645.736 M62.9365 642.033 Q68.7467 642.033 71.8022 646.639 Q74.8809 651.223 74.8809 659.972 Q74.8809 668.699 71.8022 673.306 Q68.7467 677.889 62.9365 677.889 Q57.1264 677.889 54.0477 673.306 Q50.9921 668.699 50.9921 659.972 Q50.9921 651.223 54.0477 646.639 Q57.1264 642.033 62.9365 642.033 Z\" fill=\"#000000\" fill-rule=\"evenodd\" fill-opacity=\"1\" /><path clip-path=\"url(#clip430)\" d=\"M83.0984 671.338 L87.9827 671.338 L87.9827 677.218 L83.0984 677.218 L83.0984 671.338 Z\" fill=\"#000000\" fill-rule=\"evenodd\" fill-opacity=\"1\" /><path clip-path=\"url(#clip430)\" d=\"M112.334 658.584 Q115.691 659.301 117.566 661.57 Q119.464 663.838 119.464 667.172 Q119.464 672.287 115.945 675.088 Q112.427 677.889 105.946 677.889 Q103.77 677.889 101.455 677.449 Q99.1632 677.033 96.7095 676.176 L96.7095 671.662 Q98.6539 672.796 100.969 673.375 Q103.284 673.954 105.807 673.954 Q110.205 673.954 112.496 672.218 Q114.811 670.482 114.811 667.172 Q114.811 664.116 112.658 662.403 Q110.529 660.667 106.709 660.667 L102.682 660.667 L102.682 656.824 L106.895 656.824 Q110.344 656.824 112.172 655.459 Q114.001 654.07 114.001 651.477 Q114.001 648.815 112.103 647.403 Q110.228 645.968 106.709 645.968 Q104.788 645.968 102.589 646.385 Q100.39 646.801 97.7511 647.681 L97.7511 643.514 Q100.413 642.773 102.728 642.403 Q105.066 642.033 107.126 642.033 Q112.45 642.033 115.552 644.463 Q118.654 646.871 118.654 650.991 Q118.654 653.861 117.01 655.852 Q115.367 657.82 112.334 658.584 Z\" fill=\"#000000\" fill-rule=\"evenodd\" fill-opacity=\"1\" /><path clip-path=\"url(#clip430)\" d=\"M138.33 645.736 Q134.719 645.736 132.89 649.301 Q131.084 652.843 131.084 659.972 Q131.084 667.079 132.89 670.644 Q134.719 674.185 138.33 674.185 Q141.964 674.185 143.769 670.644 Q145.598 667.079 145.598 659.972 Q145.598 652.843 143.769 649.301 Q141.964 645.736 138.33 645.736 M138.33 642.033 Q144.14 642.033 147.195 646.639 Q150.274 651.223 150.274 659.972 Q150.274 668.699 147.195 673.306 Q144.14 677.889 138.33 677.889 Q132.519 677.889 129.441 673.306 Q126.385 668.699 126.385 659.972 Q126.385 651.223 129.441 646.639 Q132.519 642.033 138.33 642.033 Z\" fill=\"#000000\" fill-rule=\"evenodd\" fill-opacity=\"1\" /><path clip-path=\"url(#clip430)\" d=\"M63.9319 341.399 Q60.3208 341.399 58.4921 344.964 Q56.6865 348.506 56.6865 355.636 Q56.6865 362.742 58.4921 366.307 Q60.3208 369.848 63.9319 369.848 Q67.5661 369.848 69.3717 366.307 Q71.2004 362.742 71.2004 355.636 Q71.2004 348.506 69.3717 344.964 Q67.5661 341.399 63.9319 341.399 M63.9319 337.696 Q69.742 337.696 72.7976 342.302 Q75.8763 346.886 75.8763 355.636 Q75.8763 364.362 72.7976 368.969 Q69.742 373.552 63.9319 373.552 Q58.1217 373.552 55.043 368.969 Q51.9875 364.362 51.9875 355.636 Q51.9875 346.886 55.043 342.302 Q58.1217 337.696 63.9319 337.696 Z\" fill=\"#000000\" fill-rule=\"evenodd\" fill-opacity=\"1\" /><path clip-path=\"url(#clip430)\" d=\"M84.0938 367.001 L88.978 367.001 L88.978 372.881 L84.0938 372.881 L84.0938 367.001 Z\" fill=\"#000000\" fill-rule=\"evenodd\" fill-opacity=\"1\" /><path clip-path=\"url(#clip430)\" d=\"M113.33 354.247 Q116.686 354.964 118.561 357.233 Q120.459 359.501 120.459 362.835 Q120.459 367.95 116.941 370.751 Q113.422 373.552 106.941 373.552 Q104.765 373.552 102.45 373.112 Q100.159 372.696 97.7048 371.839 L97.7048 367.325 Q99.6493 368.46 101.964 369.038 Q104.279 369.617 106.802 369.617 Q111.2 369.617 113.492 367.881 Q115.807 366.145 115.807 362.835 Q115.807 359.779 113.654 358.066 Q111.524 356.33 107.705 356.33 L103.677 356.33 L103.677 352.487 L107.89 352.487 Q111.339 352.487 113.168 351.122 Q114.996 349.733 114.996 347.14 Q114.996 344.478 113.098 343.066 Q111.223 341.631 107.705 341.631 Q105.783 341.631 103.584 342.048 Q101.385 342.464 98.7465 343.344 L98.7465 339.177 Q101.409 338.437 103.723 338.066 Q106.061 337.696 108.121 337.696 Q113.445 337.696 116.547 340.126 Q119.649 342.534 119.649 346.654 Q119.649 349.524 118.006 351.515 Q116.362 353.483 113.33 354.247 Z\" fill=\"#000000\" fill-rule=\"evenodd\" fill-opacity=\"1\" /><path clip-path=\"url(#clip430)\" d=\"M129.371 338.321 L147.728 338.321 L147.728 342.256 L133.654 342.256 L133.654 350.728 Q134.672 350.381 135.691 350.219 Q136.709 350.034 137.728 350.034 Q143.515 350.034 146.894 353.205 Q150.274 356.376 150.274 361.793 Q150.274 367.372 146.802 370.473 Q143.33 373.552 137.01 373.552 Q134.834 373.552 132.566 373.182 Q130.32 372.811 127.913 372.071 L127.913 367.372 Q129.996 368.506 132.219 369.061 Q134.441 369.617 136.918 369.617 Q140.922 369.617 143.26 367.51 Q145.598 365.404 145.598 361.793 Q145.598 358.182 143.26 356.075 Q140.922 353.969 136.918 353.969 Q135.043 353.969 133.168 354.386 Q131.316 354.802 129.371 355.682 L129.371 338.321 Z\" fill=\"#000000\" fill-rule=\"evenodd\" fill-opacity=\"1\" /><path clip-path=\"url(#clip430)\" d=\"M62.9365 37.0625 Q59.3254 37.0625 57.4967 40.6273 Q55.6912 44.169 55.6912 51.2986 Q55.6912 58.405 57.4967 61.9698 Q59.3254 65.5115 62.9365 65.5115 Q66.5707 65.5115 68.3763 61.9698 Q70.205 58.405 70.205 51.2986 Q70.205 44.169 68.3763 40.6273 Q66.5707 37.0625 62.9365 37.0625 M62.9365 33.3589 Q68.7467 33.3589 71.8022 37.9653 Q74.8809 42.5486 74.8809 51.2986 Q74.8809 60.0254 71.8022 64.6318 Q68.7467 69.2151 62.9365 69.2151 Q57.1264 69.2151 54.0477 64.6318 Q50.9921 60.0254 50.9921 51.2986 Q50.9921 42.5486 54.0477 37.9653 Q57.1264 33.3589 62.9365 33.3589 Z\" fill=\"#000000\" fill-rule=\"evenodd\" fill-opacity=\"1\" /><path clip-path=\"url(#clip430)\" d=\"M83.0984 62.6643 L87.9827 62.6643 L87.9827 68.5439 L83.0984 68.5439 L83.0984 62.6643 Z\" fill=\"#000000\" fill-rule=\"evenodd\" fill-opacity=\"1\" /><path clip-path=\"url(#clip430)\" d=\"M111.015 38.0579 L99.2095 56.5069 L111.015 56.5069 L111.015 38.0579 M109.788 33.9839 L115.668 33.9839 L115.668 56.5069 L120.598 56.5069 L120.598 60.3958 L115.668 60.3958 L115.668 68.5439 L111.015 68.5439 L111.015 60.3958 L95.4132 60.3958 L95.4132 55.8819 L109.788 33.9839 Z\" fill=\"#000000\" fill-rule=\"evenodd\" fill-opacity=\"1\" /><path clip-path=\"url(#clip430)\" d=\"M138.33 37.0625 Q134.719 37.0625 132.89 40.6273 Q131.084 44.169 131.084 51.2986 Q131.084 58.405 132.89 61.9698 Q134.719 65.5115 138.33 65.5115 Q141.964 65.5115 143.769 61.9698 Q145.598 58.405 145.598 51.2986 Q145.598 44.169 143.769 40.6273 Q141.964 37.0625 138.33 37.0625 M138.33 33.3589 Q144.14 33.3589 147.195 37.9653 Q150.274 42.5486 150.274 51.2986 Q150.274 60.0254 147.195 64.6318 Q144.14 69.2151 138.33 69.2151 Q132.519 69.2151 129.441 64.6318 Q126.385 60.0254 126.385 51.2986 Q126.385 42.5486 129.441 37.9653 Q132.519 33.3589 138.33 33.3589 Z\" fill=\"#000000\" fill-rule=\"evenodd\" fill-opacity=\"1\" /><polyline clip-path=\"url(#clip432)\" style=\"stroke:#009af9; stroke-linecap:butt; stroke-linejoin:round; stroke-width:4; stroke-opacity:1; fill:none\" points=\"\n",
       "  247.59,1445.72 268.234,1285.76 288.879,1163.5 309.524,1065.25 330.169,982.746 350.814,911.789 371.459,849.719 392.104,794.71 412.749,745.456 433.394,700.987 \n",
       "  454.039,660.563 474.684,623.602 495.329,589.645 515.974,558.315 536.619,529.306 557.264,502.362 577.909,477.267 598.554,453.837 619.199,431.914 639.844,411.365 \n",
       "  660.489,392.071 681.134,373.928 701.779,356.844 722.424,340.738 743.069,325.54 763.713,311.187 784.358,297.621 805.003,284.789 825.648,272.643 846.293,261.144 \n",
       "  866.938,250.257 887.583,239.941 908.228,230.162 928.873,220.889 949.518,212.11 970.163,203.789 990.808,195.9 1011.45,188.42 1032.1,181.328 1052.74,174.609 \n",
       "  1073.39,168.246 1094.03,162.222 1114.68,156.519 1135.32,151.126 1155.97,146.034 1176.61,141.223 1197.26,136.683 1217.9,132.416 1238.55,128.398 1259.19,124.62 \n",
       "  1279.84,121.072 1300.48,117.746 1321.13,114.633 1341.77,111.728 1362.42,109.022 1383.06,106.508 1403.71,104.184 1424.35,102.038 1445,100.074 1465.64,98.2774 \n",
       "  1486.29,96.641 1506.93,95.1598 1527.58,93.8293 1548.22,92.645 1568.87,91.603 1589.51,90.6996 1610.16,89.9317 1630.8,89.297 1651.45,88.7947 1672.09,88.4179 \n",
       "  1692.74,88.1579 1713.38,88.0118 1734.03,87.9763 1754.67,88.0482 1775.32,88.2248 1795.96,88.5036 1816.61,88.8823 1837.25,89.3597 1857.9,89.9419 1878.54,90.6267 \n",
       "  1899.19,91.4012 1919.83,92.2627 1940.48,93.2091 1961.12,94.238 1981.77,95.3475 2002.41,96.5356 2023.06,97.8007 2043.7,99.141 2064.35,100.56 2084.99,102.055 \n",
       "  2105.64,103.622 2126.28,105.259 2146.93,106.965 2167.57,108.736 2188.22,110.572 2208.86,112.471 2229.51,114.431 2250.15,116.453 2270.8,118.537 2291.44,120.68 \n",
       "  \n",
       "  \"/>\n",
       "<path clip-path=\"url(#clip430)\" d=\"\n",
       "M1987.39 198.898 L2280.54 198.898 L2280.54 95.2176 L1987.39 95.2176  Z\n",
       "  \" fill=\"#ffffff\" fill-rule=\"evenodd\" fill-opacity=\"1\"/>\n",
       "<polyline clip-path=\"url(#clip430)\" style=\"stroke:#000000; stroke-linecap:butt; stroke-linejoin:round; stroke-width:4; stroke-opacity:1; fill:none\" points=\"\n",
       "  1987.39,198.898 2280.54,198.898 2280.54,95.2176 1987.39,95.2176 1987.39,198.898 \n",
       "  \"/>\n",
       "<polyline clip-path=\"url(#clip430)\" style=\"stroke:#009af9; stroke-linecap:butt; stroke-linejoin:round; stroke-width:4; stroke-opacity:1; fill:none\" points=\"\n",
       "  2011.46,147.058 2155.89,147.058 \n",
       "  \"/>\n",
       "<path clip-path=\"url(#clip430)\" d=\"M2193.81 166.745 Q2192 171.375 2190.29 172.787 Q2188.58 174.199 2185.71 174.199 L2182.3 174.199 L2182.3 170.634 L2184.8 170.634 Q2186.56 170.634 2187.53 169.8 Q2188.51 168.967 2189.69 165.865 L2190.45 163.921 L2179.97 138.412 L2184.48 138.412 L2192.58 158.689 L2200.68 138.412 L2205.2 138.412 L2193.81 166.745 Z\" fill=\"#000000\" fill-rule=\"evenodd\" fill-opacity=\"1\" /><path clip-path=\"url(#clip430)\" d=\"M2212.49 160.402 L2220.13 160.402 L2220.13 134.037 L2211.82 135.703 L2211.82 131.444 L2220.08 129.778 L2224.76 129.778 L2224.76 160.402 L2232.4 160.402 L2232.4 164.338 L2212.49 164.338 L2212.49 160.402 Z\" fill=\"#000000\" fill-rule=\"evenodd\" fill-opacity=\"1\" /></svg>\n"
      ]
     },
     "metadata": {},
     "output_type": "display_data"
    }
   ],
   "source": [
    "φ = res.solution\n",
    "\n",
    "using Plots\n",
    "using NoLib: iti\n",
    "\n",
    "xvec = [e[1] for e in model.grid[2,:]]\n",
    "yvec = [e[1] for e in φ[2,:]]\n",
    "\n",
    "plot(xvec, yvec)\n",
    "\n",
    "# improve the plot....\n"
   ]
  },
  {
   "cell_type": "markdown",
   "metadata": {},
   "source": [
    "## Rewriting time_iteration\n"
   ]
  },
  {
   "cell_type": "markdown",
   "metadata": {},
   "source": [
    "### Check SGrid, CGrid, PGrid objects\n"
   ]
  },
  {
   "cell_type": "code",
   "execution_count": null,
   "metadata": {},
   "outputs": [],
   "source": [
    "using NoLib: SGrid, CGrid, PGrid, ×"
   ]
  },
  {
   "cell_type": "markdown",
   "metadata": {},
   "source": [
    "### Check GArray object\n"
   ]
  },
  {
   "cell_type": "code",
   "execution_count": 50,
   "metadata": {},
   "outputs": [
    {
     "data": {
      "text/plain": [
       "GArray{PGrid{SGrid{1}, CGrid{1}, 2}, SVector{1, Float64}}(PGrid{SGrid{1}, CGrid{1}, 2}(SGrid{1}(SVector{1, Float64}[[-0.1], [0.1]]), CGrid{1}(((0.1, 5.0, 100),)), SVector{2, Float64}[[-0.1, 0.1], [0.1, 0.1], [-0.1, 0.1494949494949495], [0.1, 0.1494949494949495], [-0.1, 0.198989898989899], [0.1, 0.198989898989899], [-0.1, 0.24848484848484848], [0.1, 0.24848484848484848], [-0.1, 0.29797979797979796], [0.1, 0.29797979797979796]  …  [-0.1, 4.802020202020202], [0.1, 4.802020202020202], [-0.1, 4.851515151515152], [0.1, 4.851515151515152], [-0.1, 4.901010101010101], [0.1, 4.901010101010101], [-0.1, 4.9505050505050505], [0.1, 4.9505050505050505], [-0.1, 5.0], [0.1, 5.0]]), SVector{1, Float64}[[0.1], [0.1], [0.1], [0.1], [0.1], [0.1], [0.1], [0.1], [0.1], [0.1]  …  [0.1], [0.1], [0.1], [0.1], [0.1], [0.1], [0.1], [0.1], [0.1], [0.1]])"
      ]
     },
     "metadata": {},
     "output_type": "display_data"
    }
   ],
   "source": [
    "### GArray objects represent a vector of points, matching the geometry of the grid\n",
    "### Create constant initial guess\n",
    "using NoLib: GArray\n",
    "x0 = GArray(\n",
    "    model.grid,\n",
    "    [SVector(0.1) for s in  model.grid[:]]\n",
    ")"
   ]
  },
  {
   "cell_type": "markdown",
   "metadata": {},
   "source": [
    "### Compare On-grid and off-grid indexing (cf interp.jl)"
   ]
  },
  {
   "cell_type": "code",
   "execution_count": 56,
   "metadata": {},
   "outputs": [
    {
     "data": {
      "text/plain": [
       "1-element SVector{1, Float64} with indices SOneTo(1):\n",
       " 0.1"
      ]
     },
     "metadata": {},
     "output_type": "display_data"
    }
   ],
   "source": [
    "x0(1,SVector(2.5))"
   ]
  },
  {
   "cell_type": "markdown",
   "metadata": {},
   "source": [
    "### Check the transition iterator $\\tau$\n"
   ]
  },
  {
   "cell_type": "code",
   "execution_count": 61,
   "metadata": {},
   "outputs": [
    {
     "data": {
      "text/plain": [
       "1-element SVector{1, Float64} with indices SOneTo(1):\n",
       " 0.1"
      ]
     },
     "metadata": {},
     "output_type": "display_data"
    }
   ],
   "source": [
    "ss = [NL.iti(model.grid)...][10]\n",
    "xx = x0[10]"
   ]
  },
  {
   "cell_type": "code",
   "execution_count": 65,
   "metadata": {},
   "outputs": [
    {
     "data": {
      "text/plain": [
       "2-element Vector{Tuple{Float64, Tuple{Tuple{Int64}, Tuple{SVector{1, Float64}, SVector{1, Float64}}}}}:\n",
       " (0.1, ((1,), ([-0.1], [0.36818181818181817])))\n",
       " (0.9, ((2,), ([0.1], [0.36818181818181817])))"
      ]
     },
     "metadata": {},
     "output_type": "display_data"
    }
   ],
   "source": [
    "[NL.τ(model, ss, xx)...]"
   ]
  },
  {
   "cell_type": "markdown",
   "metadata": {},
   "source": [
    "### Write the optimality function `F(model, s, x, x0::GArray)` where s is a grid point, x a controls and  x0 a vector of controls\n"
   ]
  },
  {
   "cell_type": "code",
   "execution_count": 75,
   "metadata": {},
   "outputs": [
    {
     "data": {
      "text/plain": [
       "F_ (generic function with 1 method)"
      ]
     },
     "metadata": {},
     "output_type": "display_data"
    }
   ],
   "source": [
    "function F_(model, s, x, φ)\n",
    "    sum(w*arbitrage(model, s, x, S, φ(S)) for (w, S) in NL.τ(model, s, x))\n",
    "end"
   ]
  },
  {
   "cell_type": "code",
   "execution_count": 76,
   "metadata": {},
   "outputs": [
    {
     "data": {
      "text/plain": [
       "1-element SVector{1, Float64} with indices SOneTo(1):\n",
       " 0.36176569493143174"
      ]
     },
     "metadata": {},
     "output_type": "display_data"
    }
   ],
   "source": [
    "F_(model, ss, xx, x0)"
   ]
  },
  {
   "cell_type": "markdown",
   "metadata": {},
   "source": [
    "### Vectorize the optimality function `F(model, x1, x0)`\n"
   ]
  },
  {
   "cell_type": "code",
   "execution_count": 85,
   "metadata": {},
   "outputs": [
    {
     "data": {
      "text/plain": [
       "F_ (generic function with 2 methods)"
      ]
     },
     "metadata": {},
     "output_type": "display_data"
    }
   ],
   "source": [
    "function F_(model, x, φ)\n",
    "    GArray(\n",
    "        model.grid,\n",
    "        [F_(model, s, x, φ) for (s,x) in zip(NL.iti(model.grid), (x))]\n",
    "    )\n",
    "\n",
    "end"
   ]
  },
  {
   "cell_type": "code",
   "execution_count": 86,
   "metadata": {},
   "outputs": [
    {
     "data": {
      "text/plain": [
       "GArray{PGrid{SGrid{1}, CGrid{1}, 2}, SVector{1, Float64}}(PGrid{SGrid{1}, CGrid{1}, 2}(SGrid{1}(SVector{1, Float64}[[-0.1], [0.1]]), CGrid{1}(((0.1, 5.0, 100),)), SVector{2, Float64}[[-0.1, 0.1], [0.1, 0.1], [-0.1, 0.1494949494949495], [0.1, 0.1494949494949495], [-0.1, 0.198989898989899], [0.1, 0.198989898989899], [-0.1, 0.24848484848484848], [0.1, 0.24848484848484848], [-0.1, 0.29797979797979796], [0.1, 0.29797979797979796]  …  [-0.1, 4.802020202020202], [0.1, 4.802020202020202], [-0.1, 4.851515151515152], [0.1, 4.851515151515152], [-0.1, 4.901010101010101], [0.1, 4.901010101010101], [-0.1, 4.9505050505050505], [0.1, 4.9505050505050505], [-0.1, 5.0], [0.1, 5.0]]), SVector{1, Float64}[[0.015534230369211845], [0.24115324715065123], [0.10157442959569879], [0.3261104939871584], [0.13786290828297898], [0.3564443889295624], [0.15262214549231712], [0.3642056014526868], [0.15706226011257926], [0.36176569493143174]  …  [-0.025364238864472644], [0.08064759091467609], [-0.025890212684111083], [0.07993244403739458], [-0.026408051462508863], [0.07922848700802758], [-0.026917954570168278], [0.07853544217400295], [-0.02742011473231193], [0.07785304125852224]])"
      ]
     },
     "metadata": {},
     "output_type": "display_data"
    }
   ],
   "source": [
    "F_(model, x0, x0)"
   ]
  },
  {
   "cell_type": "markdown",
   "metadata": {},
   "source": [
    "### Given x1, compute the derivative w.r.t. x0. Solve for the optimal x1 given x0.\n"
   ]
  },
  {
   "cell_type": "code",
   "execution_count": 89,
   "metadata": {},
   "outputs": [],
   "source": [
    "using ForwardDiff"
   ]
  },
  {
   "cell_type": "code",
   "execution_count": 90,
   "metadata": {},
   "outputs": [
    {
     "data": {
      "text/plain": [
       "dF_1_ (generic function with 1 method)"
      ]
     },
     "metadata": {},
     "output_type": "display_data"
    }
   ],
   "source": [
    "function dF_1_(model, s, x, φ)\n",
    "    ForwardDiff.jacobian(\n",
    "        u->F_(model, s, u, φ),\n",
    "        x\n",
    "    )\n",
    "end"
   ]
  },
  {
   "cell_type": "code",
   "execution_count": 91,
   "metadata": {},
   "outputs": [
    {
     "data": {
      "text/plain": [
       "1×1 SMatrix{1, 1, Float64, 1} with indices SOneTo(1)×SOneTo(1):\n",
       " -7.69762853460251"
      ]
     },
     "metadata": {},
     "output_type": "display_data"
    }
   ],
   "source": [
    "dF_1_(model, ss, xx, x0)"
   ]
  },
  {
   "cell_type": "code",
   "execution_count": 92,
   "metadata": {},
   "outputs": [
    {
     "data": {
      "text/plain": [
       "dF_1_ (generic function with 2 methods)"
      ]
     },
     "metadata": {},
     "output_type": "display_data"
    }
   ],
   "source": [
    "function dF_1_(model, x, φ)\n",
    "    GArray(\n",
    "        model.grid,\n",
    "        [dF_1_(model, s, x, φ) for (s,x) in zip(NL.iti(model.grid), (x))]\n",
    "    )\n",
    "\n",
    "end"
   ]
  },
  {
   "cell_type": "code",
   "execution_count": 94,
   "metadata": {},
   "outputs": [
    {
     "data": {
      "text/plain": [
       "GArray{PGrid{SGrid{1}, CGrid{1}, 2}, SMatrix{1, 1, Float64, 1}}(PGrid{SGrid{1}, CGrid{1}, 2}(SGrid{1}(SVector{1, Float64}[[-0.1], [0.1]]), CGrid{1}(((0.1, 5.0, 100),)), SVector{2, Float64}[[-0.1, 0.1], [0.1, 0.1], [-0.1, 0.1494949494949495], [0.1, 0.1494949494949495], [-0.1, 0.198989898989899], [0.1, 0.198989898989899], [-0.1, 0.24848484848484848], [0.1, 0.24848484848484848], [-0.1, 0.29797979797979796], [0.1, 0.29797979797979796]  …  [-0.1, 4.802020202020202], [0.1, 4.802020202020202], [-0.1, 4.851515151515152], [0.1, 4.851515151515152], [-0.1, 4.901010101010101], [0.1, 4.901010101010101], [-0.1, 4.9505050505050505], [0.1, 4.9505050505050505], [-0.1, 5.0], [0.1, 5.0]]), SMatrix{1, 1, Float64, 1}[[-11.505079766816605;;], [-12.541444199904817;;], [-10.246789546695585;;], [-10.984590477096688;;], [-9.10780073051009;;], [-9.637097483458232;;], [-8.17570134966522;;], [-8.557854637942466;;], [-7.422112631193248;;], [-7.69762853460251;;]  …  [-1.6024692855073117;;], [-1.4697521814281156;;], [-1.595146704108565;;], [-1.4626748086847217;;], [-1.5879445132609504;;], [-1.4557171259042647;;], [-1.5808594594712901;;], [-1.4488758345781183;;], [-1.5738884098121282;;], [-1.4421477602787984;;]])"
      ]
     },
     "metadata": {},
     "output_type": "display_data"
    }
   ],
   "source": [
    "J = dF_1_(model, x0, x0)"
   ]
  },
  {
   "cell_type": "code",
   "execution_count": null,
   "metadata": {},
   "outputs": [],
   "source": [
    "Let's find x such that F_(model, x, x0)"
   ]
  },
  {
   "cell_type": "code",
   "execution_count": 103,
   "metadata": {},
   "outputs": [
    {
     "name": "stdout",
     "output_type": "stream",
     "text": [
      "0.3642056014526868\n",
      "0.049052527188173545\n",
      "0.001205932750322436\n",
      "7.90117985587091e-7\n",
      "3.4031805151713e-13\n"
     ]
    }
   ],
   "source": [
    "x1 = x0\n",
    "for i=1:5\n",
    "    r = F_(model, x1, x0)\n",
    "    ϵ = NL.norm(r)\n",
    "    println(ϵ)\n",
    "    if ϵ<1e-8\n",
    "        break\n",
    "    end\n",
    "    J =  dF_1_(model, x1, x0)\n",
    "    # [J.data[i]\\ r.data[i] for i=1:length(r)]\n",
    "    dx = GArray(\n",
    "        model.grid,\n",
    "        - J.data .\\ r.data\n",
    "    )\n",
    "    x1 = x1 + dx\n",
    "end"
   ]
  },
  {
   "cell_type": "markdown",
   "metadata": {},
   "source": [
    "### Compute the derivative w.r.t. x1. Make an improvement step.\n"
   ]
  },
  {
   "cell_type": "code",
   "execution_count": null,
   "metadata": {},
   "outputs": [],
   "source": []
  },
  {
   "cell_type": "markdown",
   "metadata": {},
   "source": [
    "### Write a time iteration method with an improvement option.\n"
   ]
  },
  {
   "cell_type": "markdown",
   "metadata": {},
   "source": []
  }
 ],
 "metadata": {
  "kernelspec": {
   "display_name": "Julia 1.8.1",
   "language": "julia",
   "name": "julia-1.8"
  },
  "language_info": {
   "file_extension": ".jl",
   "mimetype": "application/julia",
   "name": "julia",
   "version": "1.8.1"
  },
  "orig_nbformat": 4
 },
 "nbformat": 4,
 "nbformat_minor": 2
}
